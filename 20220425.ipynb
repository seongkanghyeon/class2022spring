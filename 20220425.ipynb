{
  "nbformat": 4,
  "nbformat_minor": 0,
  "metadata": {
    "colab": {
      "name": "Untitled7.ipynb",
      "provenance": [],
      "authorship_tag": "ABX9TyN7jP5CItxL2TsY/ebd4yoU",
      "include_colab_link": true
    },
    "kernelspec": {
      "name": "python3",
      "display_name": "Python 3"
    },
    "language_info": {
      "name": "python"
    }
  },
  "cells": [
    {
      "cell_type": "markdown",
      "metadata": {
        "id": "view-in-github",
        "colab_type": "text"
      },
      "source": [
        "<a href=\"https://colab.research.google.com/github/seongkanghyeon/class2022spring/blob/main/20220425.ipynb\" target=\"_parent\"><img src=\"https://colab.research.google.com/assets/colab-badge.svg\" alt=\"Open In Colab\"/></a>"
      ]
    },
    {
      "cell_type": "markdown",
      "source": [
        "Auto correlation\n",
        "1. 자기상관이란 뜻을 가지고 있다.\n",
        "2. 자기자신의 신호의 상관관계를 파악한다. 즉 지연된 자신의 신호와의 상관관계를 파악하여 피치를 측정하는데 사용된다.\n",
        "3. 신호가 갖는 스펙트럼의 특성 정보를 알려준다.\n",
        "\n",
        "RMS(root mean square)\n",
        "1. 제곱 평균 제곱근이라는 뜻을 가진다.\n",
        "2. 평균 오차를 구하게 되면 값이 너무 커지기 때문에 제곱근을 씌워 계산할 때 유용히 쓰인다.\n",
        "3.파형에 따라 각각 다른 값을 가지며 Intensity를 측정할 때 사용된다.\n",
        "4. 사인함수처럼 변수들이 +,- 값을 가질 때 유용하다."
      ],
      "metadata": {
        "id": "UngMRIupfwh9"
      }
    },
    {
      "cell_type": "code",
      "execution_count": null,
      "metadata": {
        "id": "sp3qKprmfv3W"
      },
      "outputs": [],
      "source": [
        ""
      ]
    }
  ]
}