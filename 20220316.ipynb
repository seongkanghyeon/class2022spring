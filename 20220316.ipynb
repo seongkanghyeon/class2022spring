{
  "nbformat": 4,
  "nbformat_minor": 0,
  "metadata": {
    "colab": {
      "name": "Untitled1.ipynb",
      "provenance": [],
      "collapsed_sections": [],
      "authorship_tag": "ABX9TyNUF5+wTUuggTlUOiMZ7M1A",
      "include_colab_link": true
    },
    "kernelspec": {
      "name": "python3",
      "display_name": "Python 3"
    },
    "language_info": {
      "name": "python"
    }
  },
  "cells": [
    {
      "cell_type": "markdown",
      "metadata": {
        "id": "view-in-github",
        "colab_type": "text"
      },
      "source": [
        "<a href=\"https://colab.research.google.com/github/seongkanghyeon/class2022spring/blob/main/20220316.ipynb\" target=\"_parent\"><img src=\"https://colab.research.google.com/assets/colab-badge.svg\" alt=\"Open In Colab\"/></a>"
      ]
    },
    {
      "cell_type": "code",
      "execution_count": 2,
      "metadata": {
        "id": "aNiByGBDrYbX"
      },
      "outputs": [],
      "source": [
        "a = 1"
      ]
    },
    {
      "cell_type": "markdown",
      "source": [
        "a라는 변수에 1이라는 meaning을 담는 것이다."
      ],
      "metadata": {
        "id": "uYNkX1GBrdI5"
      }
    },
    {
      "cell_type": "code",
      "source": [
        "print(type(a))"
      ],
      "metadata": {
        "colab": {
          "base_uri": "https://localhost:8080/"
        },
        "id": "-D8Zldc9sBOv",
        "outputId": "6d6649de-1f9f-464d-ac6c-8c8e86da8339"
      },
      "execution_count": 3,
      "outputs": [
        {
          "output_type": "stream",
          "name": "stdout",
          "text": [
            "<class 'int'>\n"
          ]
        }
      ]
    },
    {
      "cell_type": "code",
      "source": [
        "print(a)"
      ],
      "metadata": {
        "colab": {
          "base_uri": "https://localhost:8080/"
        },
        "id": "mO6Ds40XsQ8Z",
        "outputId": "a7c8da60-34da-4542-96d5-ee2941b0133c"
      },
      "execution_count": 4,
      "outputs": [
        {
          "output_type": "stream",
          "name": "stdout",
          "text": [
            "1\n"
          ]
        }
      ]
    },
    {
      "cell_type": "code",
      "source": [
        "b = 1.1 ; print(type(b))"
      ],
      "metadata": {
        "colab": {
          "base_uri": "https://localhost:8080/"
        },
        "id": "16O4xt4DssTT",
        "outputId": "b4f85573-f769-4a2e-9fba-da05cc3caa10"
      },
      "execution_count": 5,
      "outputs": [
        {
          "output_type": "stream",
          "name": "stdout",
          "text": [
            "<class 'float'>\n"
          ]
        }
      ]
    },
    {
      "cell_type": "markdown",
      "source": [
        "정수는 type이 'int'이다. 그리고 a의 내용을 보여달란 요청에 a의 content가 1이라고 보여준 것이다. 실수는 type이 'float'이다. "
      ],
      "metadata": {
        "id": "DxpZ4sdIsa2o"
      }
    },
    {
      "cell_type": "code",
      "source": [
        "a = '456' ; print(type(a)) ; print(a[1])"
      ],
      "metadata": {
        "colab": {
          "base_uri": "https://localhost:8080/"
        },
        "id": "xq6NIBGetG0h",
        "outputId": "e76cf9a6-ec2f-407a-863f-94b16e999846"
      },
      "execution_count": 6,
      "outputs": [
        {
          "output_type": "stream",
          "name": "stdout",
          "text": [
            "<class 'str'>\n",
            "5\n"
          ]
        }
      ]
    },
    {
      "cell_type": "markdown",
      "source": [
        "''와\"\"를 사용하여 string을 넣을 수 있다. string은 0번째 부터 세기 때문에 '456'의 1번째인 5를 보여준 것이다."
      ],
      "metadata": {
        "id": "mtbhr_Sithai"
      }
    },
    {
      "cell_type": "code",
      "source": [
        "a = [1, 2, 3, 4]; print(type(a)); print(a[0])"
      ],
      "metadata": {
        "colab": {
          "base_uri": "https://localhost:8080/"
        },
        "id": "ohyisppBuABC",
        "outputId": "6d8edd09-be9b-4722-99fb-7e0eddc203ed"
      },
      "execution_count": 17,
      "outputs": [
        {
          "output_type": "stream",
          "name": "stdout",
          "text": [
            "<class 'list'>\n",
            "1\n"
          ]
        }
      ]
    },
    {
      "cell_type": "markdown",
      "source": [
        "list는 여러개를 담을 때 []을 사용하여 쓴다. list도 0번째부터 센다. "
      ],
      "metadata": {
        "id": "gH2ONyfXu8lu"
      }
    },
    {
      "cell_type": "code",
      "source": [
        "a[0]"
      ],
      "metadata": {
        "colab": {
          "base_uri": "https://localhost:8080/"
        },
        "id": "dyPmYY3iwA6A",
        "outputId": "f88b76a2-5045-4dcd-969b-004c41d6bd77"
      },
      "execution_count": 21,
      "outputs": [
        {
          "output_type": "execute_result",
          "data": {
            "text/plain": [
              "1"
            ]
          },
          "metadata": {},
          "execution_count": 21
        }
      ]
    },
    {
      "cell_type": "markdown",
      "source": [
        "맨 마지막 줄일 때는 print를 쓰지 않아도 된다."
      ],
      "metadata": {
        "id": "Q3FxVjjswE-a"
      }
    },
    {
      "cell_type": "code",
      "source": [
        "a[1:3]"
      ],
      "metadata": {
        "colab": {
          "base_uri": "https://localhost:8080/"
        },
        "id": "0Bcb5IhzwXBE",
        "outputId": "2c2ec2c2-3c8e-4eff-a217-698b43e0ace0"
      },
      "execution_count": 22,
      "outputs": [
        {
          "output_type": "execute_result",
          "data": {
            "text/plain": [
              "[2, 3]"
            ]
          },
          "metadata": {},
          "execution_count": 22
        }
      ]
    },
    {
      "cell_type": "markdown",
      "source": [
        "마지막 세번째는 포함하지 않는다."
      ],
      "metadata": {
        "id": "junUCjf-wc4j"
      }
    },
    {
      "cell_type": "code",
      "source": [
        "a[:]"
      ],
      "metadata": {
        "colab": {
          "base_uri": "https://localhost:8080/"
        },
        "id": "r2R_2JyTwgJD",
        "outputId": "c8484d8c-7576-49d9-9dd5-82fd0972916f"
      },
      "execution_count": 23,
      "outputs": [
        {
          "output_type": "execute_result",
          "data": {
            "text/plain": [
              "[1, 2, 3, 4]"
            ]
          },
          "metadata": {},
          "execution_count": 23
        }
      ]
    },
    {
      "cell_type": "markdown",
      "source": [
        "대괄호 안에 :쓰면 다나온다."
      ],
      "metadata": {
        "id": "9AwbgK54wn4_"
      }
    },
    {
      "cell_type": "code",
      "source": [
        "a[0:-1]"
      ],
      "metadata": {
        "colab": {
          "base_uri": "https://localhost:8080/"
        },
        "id": "MF2Gmq53wm64",
        "outputId": "50477627-06c5-4016-cbaa-248a4f29a444"
      },
      "execution_count": 24,
      "outputs": [
        {
          "output_type": "execute_result",
          "data": {
            "text/plain": [
              "[1, 2, 3]"
            ]
          },
          "metadata": {},
          "execution_count": 24
        }
      ]
    },
    {
      "cell_type": "markdown",
      "source": [
        "-1은 0에서 전번째꺼라 마지막 꺼다."
      ],
      "metadata": {
        "id": "yl8uJZihwyW5"
      }
    },
    {
      "cell_type": "code",
      "source": [
        "a = ['a', 2, [3,'5']]"
      ],
      "metadata": {
        "id": "aJp-bgMKvZEw"
      },
      "execution_count": 25,
      "outputs": []
    },
    {
      "cell_type": "code",
      "source": [
        "a[2][1]"
      ],
      "metadata": {
        "colab": {
          "base_uri": "https://localhost:8080/",
          "height": 35
        },
        "id": "6FTcBfdBxhJ4",
        "outputId": "90c20935-dbcf-4339-ee44-2dd1a4914596"
      },
      "execution_count": 26,
      "outputs": [
        {
          "output_type": "execute_result",
          "data": {
            "text/plain": [
              "'5'"
            ],
            "application/vnd.google.colaboratory.intrinsic+json": {
              "type": "string"
            }
          },
          "metadata": {},
          "execution_count": 26
        }
      ]
    },
    {
      "cell_type": "markdown",
      "source": [
        "a의 두번째의 첫번째를 가져온거다."
      ],
      "metadata": {
        "id": "mDcchr-Qxrzy"
      }
    },
    {
      "cell_type": "code",
      "source": [
        "a = 'abcdef123'"
      ],
      "metadata": {
        "id": "i6M5QX49xqoD"
      },
      "execution_count": 27,
      "outputs": []
    },
    {
      "cell_type": "code",
      "source": [
        "a[3:6]"
      ],
      "metadata": {
        "colab": {
          "base_uri": "https://localhost:8080/",
          "height": 35
        },
        "id": "2YUnBMnnx2os",
        "outputId": "ee8d994c-ce20-484f-a995-91b2711507d9"
      },
      "execution_count": 28,
      "outputs": [
        {
          "output_type": "execute_result",
          "data": {
            "text/plain": [
              "'def'"
            ],
            "application/vnd.google.colaboratory.intrinsic+json": {
              "type": "string"
            }
          },
          "metadata": {},
          "execution_count": 28
        }
      ]
    },
    {
      "cell_type": "markdown",
      "source": [
        "list와 인덱스 하는법이 동일하다."
      ],
      "metadata": {
        "id": "dpIne2HDyIxB"
      }
    },
    {
      "cell_type": "code",
      "source": [
        "a = [1, 2, 3]"
      ],
      "metadata": {
        "id": "5clAHpxQyN3l"
      },
      "execution_count": 29,
      "outputs": []
    },
    {
      "cell_type": "code",
      "source": [
        "a[1] = 0"
      ],
      "metadata": {
        "id": "gpDQP9G2y46W"
      },
      "execution_count": 30,
      "outputs": []
    },
    {
      "cell_type": "code",
      "source": [
        "print(a)"
      ],
      "metadata": {
        "colab": {
          "base_uri": "https://localhost:8080/"
        },
        "id": "Hv4MueNky8k4",
        "outputId": "d7800c9e-969f-4e68-c649-9fcb9b05fed8"
      },
      "execution_count": 34,
      "outputs": [
        {
          "output_type": "stream",
          "name": "stdout",
          "text": [
            "[1, 0, 3]\n"
          ]
        }
      ]
    },
    {
      "cell_type": "markdown",
      "source": [
        "list의 경우 대괄호 안의 것을 변경할 수 있지만 tuple은 내부 아이템을 바꾸지 못한다. tuple은 소괄호를 사용하여 만든다."
      ],
      "metadata": {
        "id": "DNQU3drzzG8y"
      }
    },
    {
      "cell_type": "code",
      "source": [
        "a ={\"a\": \"apple\", 123: \"orange\", \"c\": 2014}"
      ],
      "metadata": {
        "id": "DDI1uwH4zc6g"
      },
      "execution_count": 40,
      "outputs": []
    },
    {
      "cell_type": "markdown",
      "source": [
        "dict 는 dictionary의 준말 key와 value로 이루어짐\n",
        "dict는 순서가 따로 존재하지 않는다. key에는 숫자 아니면 문자가 오면된다. \n",
        "\n",
        "\n",
        "\n"
      ],
      "metadata": {
        "id": "50Bj2TQpz0D-"
      }
    },
    {
      "cell_type": "code",
      "source": [
        "a[\"a\"]"
      ],
      "metadata": {
        "colab": {
          "base_uri": "https://localhost:8080/",
          "height": 35
        },
        "id": "hNoQ0cTpz5ii",
        "outputId": "69a0aee4-098e-418a-b4f4-4e3742fd8d78"
      },
      "execution_count": 38,
      "outputs": [
        {
          "output_type": "execute_result",
          "data": {
            "text/plain": [
              "'apple'"
            ],
            "application/vnd.google.colaboratory.intrinsic+json": {
              "type": "string"
            }
          },
          "metadata": {},
          "execution_count": 38
        }
      ]
    },
    {
      "cell_type": "code",
      "source": [
        "s = 'abcdef'\n",
        "print(s[0], s[2], s[-3], s[-6])"
      ],
      "metadata": {
        "colab": {
          "base_uri": "https://localhost:8080/"
        },
        "id": "8toVjrd_2ryX",
        "outputId": "05c90eb3-6405-402d-a4a7-d50285a248b8"
      },
      "execution_count": 42,
      "outputs": [
        {
          "output_type": "stream",
          "name": "stdout",
          "text": [
            "a c d a\n"
          ]
        }
      ]
    },
    {
      "cell_type": "code",
      "source": [
        "len(s)"
      ],
      "metadata": {
        "colab": {
          "base_uri": "https://localhost:8080/"
        },
        "id": "ec0YAIh238hn",
        "outputId": "2243fe25-c463-4d29-f78f-310a41ecce35"
      },
      "execution_count": 43,
      "outputs": [
        {
          "output_type": "execute_result",
          "data": {
            "text/plain": [
              "6"
            ]
          },
          "metadata": {},
          "execution_count": 43
        }
      ]
    },
    {
      "cell_type": "markdown",
      "source": [
        "len이라는 함수는 s의 길이를 말해준다"
      ],
      "metadata": {
        "id": "myxb-W_34Hxq"
      }
    },
    {
      "cell_type": "code",
      "source": [
        "s[1]+s[3]+s[4:]*10"
      ],
      "metadata": {
        "colab": {
          "base_uri": "https://localhost:8080/",
          "height": 35
        },
        "id": "hKbCw48M4Nxo",
        "outputId": "50f314b2-85ad-46ce-c906-ac23c91f3ad6"
      },
      "execution_count": 44,
      "outputs": [
        {
          "output_type": "execute_result",
          "data": {
            "text/plain": [
              "'bdefefefefefefefefefef'"
            ],
            "application/vnd.google.colaboratory.intrinsic+json": {
              "type": "string"
            }
          },
          "metadata": {},
          "execution_count": 44
        }
      ]
    },
    {
      "cell_type": "code",
      "source": [
        "s.upper()"
      ],
      "metadata": {
        "colab": {
          "base_uri": "https://localhost:8080/",
          "height": 35
        },
        "id": "hMoBUGdC4ZXi",
        "outputId": "30ccf982-e21a-476d-fb29-e2a573a8f6ac"
      },
      "execution_count": 45,
      "outputs": [
        {
          "output_type": "execute_result",
          "data": {
            "text/plain": [
              "'ABCDEF'"
            ],
            "application/vnd.google.colaboratory.intrinsic+json": {
              "type": "string"
            }
          },
          "metadata": {},
          "execution_count": 45
        }
      ]
    },
    {
      "cell_type": "markdown",
      "source": [
        "s를 대문자로"
      ],
      "metadata": {
        "id": "WIdea-NI5SQo"
      }
    },
    {
      "cell_type": "code",
      "source": [
        "s = ' this is a house built this year./n'\n",
        "s"
      ],
      "metadata": {
        "colab": {
          "base_uri": "https://localhost:8080/",
          "height": 35
        },
        "id": "AQZ-HNnd5UPb",
        "outputId": "2b20ddaf-2010-4895-cdc8-31a00749ab9f"
      },
      "execution_count": 46,
      "outputs": [
        {
          "output_type": "execute_result",
          "data": {
            "text/plain": [
              "' this is a house built this year./n'"
            ],
            "application/vnd.google.colaboratory.intrinsic+json": {
              "type": "string"
            }
          },
          "metadata": {},
          "execution_count": 46
        }
      ]
    },
    {
      "cell_type": "markdown",
      "source": [
        "맨 마지막줄은 그냥s 만 해도 프린트됨"
      ],
      "metadata": {
        "id": "K83BvRO06BR7"
      }
    },
    {
      "cell_type": "code",
      "source": [
        "result = s.find('house')\n",
        "result"
      ],
      "metadata": {
        "colab": {
          "base_uri": "https://localhost:8080/"
        },
        "id": "Euzd1nox6Ftd",
        "outputId": "54194938-628e-4770-ab48-1ab5afd98a2c"
      },
      "execution_count": 47,
      "outputs": [
        {
          "output_type": "execute_result",
          "data": {
            "text/plain": [
              "11"
            ]
          },
          "metadata": {},
          "execution_count": 47
        }
      ]
    },
    {
      "cell_type": "markdown",
      "source": [
        "house가 나오는게 열한번째라는 이야기이다.제일 먼저 나오는거 찾는거임"
      ],
      "metadata": {
        "id": "IJnSDJGl6NO1"
      }
    },
    {
      "cell_type": "code",
      "source": [
        "s = s.strip()\n",
        "s"
      ],
      "metadata": {
        "colab": {
          "base_uri": "https://localhost:8080/",
          "height": 35
        },
        "id": "0IfGz4mc6aCo",
        "outputId": "e326a417-b3f3-4b7c-88e2-664a00b6c0ff"
      },
      "execution_count": 49,
      "outputs": [
        {
          "output_type": "execute_result",
          "data": {
            "text/plain": [
              "'this is a house built this year./n'"
            ],
            "application/vnd.google.colaboratory.intrinsic+json": {
              "type": "string"
            }
          },
          "metadata": {},
          "execution_count": 49
        }
      ]
    },
    {
      "cell_type": "markdown",
      "source": [
        "white space를 없앤다. 대쉬 반대방향을 못찾아서 저건 못없앴습니다."
      ],
      "metadata": {
        "id": "rDlcbf3T6jJk"
      }
    },
    {
      "cell_type": "code",
      "source": [
        "tokens = s.split(' ')\n",
        "tokens"
      ],
      "metadata": {
        "colab": {
          "base_uri": "https://localhost:8080/"
        },
        "id": "Bv_w2EUb6oi_",
        "outputId": "e115344f-4397-4bd2-bcb6-eb549e5df4b8"
      },
      "execution_count": 51,
      "outputs": [
        {
          "output_type": "execute_result",
          "data": {
            "text/plain": [
              "['this', 'is', 'a', 'house', 'built', 'this', 'year./n']"
            ]
          },
          "metadata": {},
          "execution_count": 51
        }
      ]
    },
    {
      "cell_type": "markdown",
      "source": [
        "빈칸을 중심으로 쪼개서 list로 만들으라는 함수 빈칸 꼭 넣어야 됩니다.\n",
        "\n",
        "\n"
      ],
      "metadata": {
        "id": "VduQ4D2I60Ts"
      }
    },
    {
      "cell_type": "code",
      "source": [
        "s = ' '.join(tokens)\n",
        "s"
      ],
      "metadata": {
        "colab": {
          "base_uri": "https://localhost:8080/",
          "height": 35
        },
        "id": "ILCR3Lk-645Q",
        "outputId": "f890e086-ab3f-4624-eb7a-7f184b5c30bc"
      },
      "execution_count": 52,
      "outputs": [
        {
          "output_type": "execute_result",
          "data": {
            "text/plain": [
              "'this is a house built this year./n'"
            ],
            "application/vnd.google.colaboratory.intrinsic+json": {
              "type": "string"
            }
          },
          "metadata": {},
          "execution_count": 52
        }
      ]
    },
    {
      "cell_type": "markdown",
      "source": [
        "빈칸 이용해서 이 list를 다시 join해라"
      ],
      "metadata": {
        "id": "9yi8jJQr7N76"
      }
    },
    {
      "cell_type": "code",
      "source": [
        "s = s.replace('this', 'that')\n",
        "s"
      ],
      "metadata": {
        "colab": {
          "base_uri": "https://localhost:8080/",
          "height": 35
        },
        "id": "AXV8XPcX7au7",
        "outputId": "4be722b8-b140-4ab3-f691-653d973fc015"
      },
      "execution_count": 53,
      "outputs": [
        {
          "output_type": "execute_result",
          "data": {
            "text/plain": [
              "'that is a house built that year./n'"
            ],
            "application/vnd.google.colaboratory.intrinsic+json": {
              "type": "string"
            }
          },
          "metadata": {},
          "execution_count": 53
        }
      ]
    },
    {
      "cell_type": "markdown",
      "source": [
        "this를 that으로 바꾸는 함수"
      ],
      "metadata": {
        "id": "mLJ9T3By7jwg"
      }
    },
    {
      "cell_type": "code",
      "source": [
        "def add(a,b) :\n",
        "  return a+b\n",
        "\n",
        "def add(a,b) :\n",
        "  c = a + b\n",
        "  retutn c  "
      ],
      "metadata": {
        "id": "NHTBZzPv7xV6"
      },
      "execution_count": 54,
      "outputs": []
    },
    {
      "cell_type": "markdown",
      "source": [
        "둘이 같은거다"
      ],
      "metadata": {
        "id": "LUq6v_UY9Tsm"
      }
    },
    {
      "cell_type": "code",
      "source": [
        "c = add(3,4); print(c)"
      ],
      "metadata": {
        "colab": {
          "base_uri": "https://localhost:8080/"
        },
        "id": "_UX1STH_8yLb",
        "outputId": "0b32a696-4446-461f-ad53-f551a3c425c9"
      },
      "execution_count": 55,
      "outputs": [
        {
          "output_type": "stream",
          "name": "stdout",
          "text": [
            "7\n"
          ]
        }
      ]
    },
    {
      "cell_type": "markdown",
      "source": [
        "함수는 def 적고 함수의 이름을 적고 def 함수명(입력변수) 이런식으로 만든다. 그 다음 출력부분은 return 출력변수명 을 적으면 된다.\n"
      ],
      "metadata": {
        "id": "Q7dLjyjx8EYO"
      }
    },
    {
      "cell_type": "code",
      "source": [
        "a = [1, 2, 3, 4]\n",
        "for i in a:\n",
        "    print(i)"
      ],
      "metadata": {
        "colab": {
          "base_uri": "https://localhost:8080/"
        },
        "id": "EKa5PBnN-_Ni",
        "outputId": "ff9590b5-36bc-4808-a908-959048254235"
      },
      "execution_count": 56,
      "outputs": [
        {
          "output_type": "stream",
          "name": "stdout",
          "text": [
            "1\n",
            "2\n",
            "3\n",
            "4\n"
          ]
        }
      ]
    },
    {
      "cell_type": "markdown",
      "source": [
        "print 앞에 띄워쓰기 무조건 해야 한다 안띄우면 독립적으로 실행이 된다. a있는 것들을 i에서 처음부터 하나하나씩 받아서 돌린다. "
      ],
      "metadata": {
        "id": "4iG8Hcr-_QYY"
      }
    },
    {
      "cell_type": "code",
      "source": [
        "a = [1, 2, 3, 4]\n",
        "for i in range(len(a)) :\n",
        "    print(a[i])"
      ],
      "metadata": {
        "colab": {
          "base_uri": "https://localhost:8080/"
        },
        "id": "6DOCWtzY9WHE",
        "outputId": "396cdea7-67c7-4431-8400-40d4370635fa"
      },
      "execution_count": 59,
      "outputs": [
        {
          "output_type": "stream",
          "name": "stdout",
          "text": [
            "1\n",
            "2\n",
            "3\n",
            "4\n"
          ]
        }
      ]
    },
    {
      "cell_type": "markdown",
      "source": [
        "range(len(a)) =range(4) 두개는 같은거라고 생각한다.\n",
        "range(4) 는 숫자를 넣으면 [0,1,2,3]의 list가 만들어지는 것이다. \n",
        "\n"
      ],
      "metadata": {
        "id": "w3RS0HBVAaNJ"
      }
    },
    {
      "cell_type": "code",
      "source": [
        "a = 0\n",
        "if a == 0:\n",
        "    print(a)"
      ],
      "metadata": {
        "colab": {
          "base_uri": "https://localhost:8080/"
        },
        "id": "ZWtTuvAVDV59",
        "outputId": "48eac501-95e5-4a56-e089-0e846e2fca54"
      },
      "execution_count": 60,
      "outputs": [
        {
          "output_type": "stream",
          "name": "stdout",
          "text": [
            "0\n"
          ]
        }
      ]
    },
    {
      "cell_type": "markdown",
      "source": [
        "같다는 ==로 써야 하고 =은 assign 하는 것이다. print 앞은 또 띄워야 한다 a가 0이 맞다면 a를 프린트해라 라는 뜻이다. 아니다는 !=이다."
      ],
      "metadata": {
        "id": "YbQH8aqWD4b_"
      }
    },
    {
      "cell_type": "code",
      "source": [
        "a = 0\n",
        "if a != 0:\n",
        "     print(a)\n",
        "else:\n",
        "    print(a+1)     "
      ],
      "metadata": {
        "colab": {
          "base_uri": "https://localhost:8080/"
        },
        "id": "6jU_z3CgEK8k",
        "outputId": "c36bb1ed-cdc5-498f-fd9b-9b5c32d96db4"
      },
      "execution_count": 61,
      "outputs": [
        {
          "output_type": "stream",
          "name": "stdout",
          "text": [
            "1\n"
          ]
        }
      ]
    },
    {
      "cell_type": "code",
      "source": [
        "for i in range(1, 3):\n",
        "    for j in range(3, 5):\n",
        "        print(i*j)"
      ],
      "metadata": {
        "colab": {
          "base_uri": "https://localhost:8080/"
        },
        "id": "RLvvvnhqEI5W",
        "outputId": "2ccfb19a-bffc-42bd-a9d1-c770f79d9cd5"
      },
      "execution_count": 62,
      "outputs": [
        {
          "output_type": "stream",
          "name": "stdout",
          "text": [
            "3\n",
            "4\n",
            "6\n",
            "8\n"
          ]
        }
      ]
    },
    {
      "cell_type": "markdown",
      "source": [
        "range(1, 3)은 [1,2]이다. 하나씩 들어가는 것이다 i에 1이 들어가고 j에 3이 들어가고 그러면 3이 나온다. 일단 i가 1인 상태에서 j가 4로 들어간다. 그다음은 i에 2가 들어가고 같은 과정을 반복한다. "
      ],
      "metadata": {
        "id": "2cox-4iyEqVY"
      }
    },
    {
      "cell_type": "code",
      "source": [
        "for i in range(1, 3):\n",
        "   for j in range(3, 5):\n",
        "      if j >= 4:\n",
        "          print(i*j)"
      ],
      "metadata": {
        "colab": {
          "base_uri": "https://localhost:8080/"
        },
        "id": "Gy3yRaEwFL0Q",
        "outputId": "cbcf57d5-3543-47c4-fb3b-63d1b4101953"
      },
      "execution_count": 63,
      "outputs": [
        {
          "output_type": "stream",
          "name": "stdout",
          "text": [
            "4\n",
            "8\n"
          ]
        }
      ]
    },
    {
      "cell_type": "markdown",
      "source": [
        "j가 4이상일때만 print 하라고 한 것이다."
      ],
      "metadata": {
        "id": "hMUINI7XFfhl"
      }
    },
    {
      "cell_type": "code",
      "source": [
        "a = [1, 2, 3, 4]\n",
        "b = [i for i in a if i >=2]\n",
        "b"
      ],
      "metadata": {
        "colab": {
          "base_uri": "https://localhost:8080/"
        },
        "id": "AtxCnrP3Fksp",
        "outputId": "b5d4ae8c-a3a6-4a69-d720-577fc6ecaffa"
      },
      "execution_count": 64,
      "outputs": [
        {
          "output_type": "execute_result",
          "data": {
            "text/plain": [
              "[2, 3, 4]"
            ]
          },
          "metadata": {},
          "execution_count": 64
        }
      ]
    },
    {
      "cell_type": "markdown",
      "source": [
        "a에서 하나하나씩 i로 받는다. 1부터 받고 실행을 if이후 하는 거다. 그러면 1이 2보다 작으니까 아무것도 실행하지 않는다. \n"
      ],
      "metadata": {
        "id": "okAliP7wF5if"
      }
    },
    {
      "cell_type": "code",
      "source": [
        "a = ['red', 'green', 'blue', 'purple']\n",
        "b = [1, 2, 3, 4]\n",
        "c = {a[i]:b[i] for i in range(4)}\n",
        "c"
      ],
      "metadata": {
        "colab": {
          "base_uri": "https://localhost:8080/"
        },
        "id": "ZrjAc6JPF5Hi",
        "outputId": "3939199c-3c2e-42b4-857d-666d41116994"
      },
      "execution_count": 65,
      "outputs": [
        {
          "output_type": "execute_result",
          "data": {
            "text/plain": [
              "{'blue': 3, 'green': 2, 'purple': 4, 'red': 1}"
            ]
          },
          "metadata": {},
          "execution_count": 65
        }
      ]
    },
    {
      "cell_type": "markdown",
      "source": [
        "dict는 순서는 중요하지 않다. "
      ],
      "metadata": {
        "id": "Zx0MdeMjHE4T"
      }
    },
    {
      "cell_type": "code",
      "source": [
        "import numpy"
      ],
      "metadata": {
        "id": "-grS3rZsHmcU"
      },
      "execution_count": 67,
      "outputs": []
    },
    {
      "cell_type": "markdown",
      "source": [
        "numpy를 import하면 패키지가 있다고 치면 그 내부적으로 구조가 또 있다. 그 구조 속에 여러 function이 있다. 그래서 그 function을 지정 해줘야 한다. numpy는 난수 생성 한다던가 행렬같은 숫자를 만든다던가 간단한 통계처리 할때 사용한다.수치적인 것을 사용할 때 필수적이다. "
      ],
      "metadata": {
        "id": "w2XqSGpcXCvJ"
      }
    },
    {
      "cell_type": "code",
      "source": [
        "numpy.random.randn(5)"
      ],
      "metadata": {
        "colab": {
          "base_uri": "https://localhost:8080/"
        },
        "id": "9IfqNhYgXQ4U",
        "outputId": "c1aa07a8-69dd-4d68-b199-a3e85ec69586"
      },
      "execution_count": 68,
      "outputs": [
        {
          "output_type": "execute_result",
          "data": {
            "text/plain": [
              "array([ 0.26052921,  1.48168226,  0.44536463, -0.04733557, -0.7703155 ])"
            ]
          },
          "metadata": {},
          "execution_count": 68
        }
      ]
    },
    {
      "cell_type": "markdown",
      "source": [
        "평균 0 인 난수가 만들어진다."
      ],
      "metadata": {
        "id": "uLSvtyarXrBI"
      }
    },
    {
      "cell_type": "code",
      "source": [
        "import numpy as np\n",
        "n = np.random.randn(100)"
      ],
      "metadata": {
        "id": "7u1s606AYB5T"
      },
      "execution_count": 69,
      "outputs": []
    },
    {
      "cell_type": "markdown",
      "source": [
        "numpy를 np로 줄여쓴다."
      ],
      "metadata": {
        "id": "_w1PSoOyYMho"
      }
    },
    {
      "cell_type": "code",
      "source": [
        "import matplotlib\n",
        "matplotlib.pyplot.hist(n)"
      ],
      "metadata": {
        "colab": {
          "base_uri": "https://localhost:8080/",
          "height": 356
        },
        "id": "gdhA4RSsYRru",
        "outputId": "0e353ee8-fea6-4834-f480-0267d858008a"
      },
      "execution_count": 70,
      "outputs": [
        {
          "output_type": "execute_result",
          "data": {
            "text/plain": [
              "(array([ 5.,  8.,  8., 11., 15., 17., 17.,  8.,  8.,  3.]),\n",
              " array([-2.15025122, -1.73083103, -1.31141083, -0.89199063, -0.47257043,\n",
              "        -0.05315023,  0.36626997,  0.78569016,  1.20511036,  1.62453056,\n",
              "         2.04395076]),\n",
              " <a list of 10 Patch objects>)"
            ]
          },
          "metadata": {},
          "execution_count": 70
        },
        {
          "output_type": "display_data",
          "data": {
            "text/plain": [
              "<Figure size 432x288 with 1 Axes>"
            ],
            "image/png": "[encoded data removed]"
          },
          "metadata": {
            "needs_background": "light"
          }
        }
      ]
    },
    {
      "cell_type": "markdown",
      "source": [
        "hist는 히스토 그램 만드는 것이다. 난수를 다시만들면 새로운 히스토그램이 나온다."
      ],
      "metadata": {
        "id": "b__wiQ7uYekJ"
      }
    },
    {
      "cell_type": "code",
      "source": [
        "from matplotlib import pyplot\n",
        "pyplot.hist(n)"
      ],
      "metadata": {
        "colab": {
          "base_uri": "https://localhost:8080/",
          "height": 356
        },
        "id": "ioY6naqkZlE9",
        "outputId": "8056b1ad-4266-45b7-9e7e-aae84c3d6ba2"
      },
      "execution_count": 71,
      "outputs": [
        {
          "output_type": "execute_result",
          "data": {
            "text/plain": [
              "(array([ 5.,  8.,  8., 11., 15., 17., 17.,  8.,  8.,  3.]),\n",
              " array([-2.15025122, -1.73083103, -1.31141083, -0.89199063, -0.47257043,\n",
              "        -0.05315023,  0.36626997,  0.78569016,  1.20511036,  1.62453056,\n",
              "         2.04395076]),\n",
              " <a list of 10 Patch objects>)"
            ]
          },
          "metadata": {},
          "execution_count": 71
        },
        {
          "output_type": "display_data",
          "data": {
            "text/plain": [
              "<Figure size 432x288 with 1 Axes>"
            ],
            "image/png": "[encoded data removed]"
          },
          "metadata": {
            "needs_background": "light"
          }
        }
      ]
    },
    {
      "cell_type": "markdown",
      "source": [
        "from import를 쓰면 import as처럼 축약해서 부를 수 있다."
      ],
      "metadata": {
        "id": "LXsYt4zMZu4S"
      }
    },
    {
      "cell_type": "markdown",
      "source": [
        "matrix 행렬이다. 직사각형의 숫자배열이다. 직사각형의 모양은 다양하다. 입체로도 만들 수 있다. n-dimentional array =nd array 라고 한다. "
      ],
      "metadata": {
        "id": "i0-APm1VaSrr"
      }
    },
    {
      "cell_type": "code",
      "source": [
        "x = np.array([1, 2, 3])\n",
        "print(x)\n",
        "print(type(x))\n",
        "print(x.shape)"
      ],
      "metadata": {
        "colab": {
          "base_uri": "https://localhost:8080/"
        },
        "id": "35WsIyIYZ4i1",
        "outputId": "e5e640c3-639b-47ab-e7ef-0441e717b3d7"
      },
      "execution_count": 72,
      "outputs": [
        {
          "output_type": "stream",
          "name": "stdout",
          "text": [
            "[1 2 3]\n",
            "<class 'numpy.ndarray'>\n",
            "(3,)\n"
          ]
        }
      ]
    },
    {
      "cell_type": "markdown",
      "source": [
        "array에 list가 들어있다. list는 계산이 될 수 없다. 그래서 list를 array로 바꾸어 줘야 한다. class는 특수한 변수이다. shape은 세개짜리 1차원 1d array가 만들어 짐을 알 수 있다."
      ],
      "metadata": {
        "id": "HNrj-ldqbB2T"
      }
    },
    {
      "cell_type": "code",
      "source": [
        "x = np.arange(0,10,2)\n",
        "print(x)\n",
        "print(type(x))\n",
        "print(x.shape)"
      ],
      "metadata": {
        "colab": {
          "base_uri": "https://localhost:8080/"
        },
        "id": "b2p7r2KsbeL8",
        "outputId": "d1884322-982f-43bd-b2de-d1b49bf4c993"
      },
      "execution_count": 73,
      "outputs": [
        {
          "output_type": "stream",
          "name": "stdout",
          "text": [
            "[0 2 4 6 8]\n",
            "<class 'numpy.ndarray'>\n",
            "(5,)\n"
          ]
        }
      ]
    },
    {
      "cell_type": "markdown",
      "source": [
        "0부터 10까지 그리고 2는 incrment이다. 0포함해서 2를 띄워서 만들어라 이다. 마지막 10은 포함이 되지 않는다. "
      ],
      "metadata": {
        "id": "FRH-S2dEbjXq"
      }
    },
    {
      "cell_type": "code",
      "source": [
        "x= np.linspace(0,10,6)\n",
        "print(x)\n",
        "print(type(x))\n",
        "print(x.shape)"
      ],
      "metadata": {
        "colab": {
          "base_uri": "https://localhost:8080/"
        },
        "id": "qQhhb923b70R",
        "outputId": "f26474be-008d-47ab-be34-33881e6e8855"
      },
      "execution_count": 74,
      "outputs": [
        {
          "output_type": "stream",
          "name": "stdout",
          "text": [
            "[ 0.  2.  4.  6.  8. 10.]\n",
            "<class 'numpy.ndarray'>\n",
            "(6,)\n"
          ]
        }
      ]
    },
    {
      "cell_type": "markdown",
      "source": [
        "linspace는 0부터 10까지 (10포함하여) 등간격으로 나누어 6개의 숫자를 만들어라 이다. "
      ],
      "metadata": {
        "id": "skKzcGEFcK3l"
      }
    },
    {
      "cell_type": "code",
      "source": [
        "x = np.array([[1,2,3], [4,5,6]])\n",
        "print(x)\n",
        "print(type(x))\n",
        "print(x.shape)"
      ],
      "metadata": {
        "colab": {
          "base_uri": "https://localhost:8080/"
        },
        "id": "AN7PBp3ZcZU0",
        "outputId": "2eeea89e-4799-483b-e581-da72e7c61b26"
      },
      "execution_count": 75,
      "outputs": [
        {
          "output_type": "stream",
          "name": "stdout",
          "text": [
            "[[1 2 3]\n",
            " [4 5 6]]\n",
            "<class 'numpy.ndarray'>\n",
            "(2, 3)\n"
          ]
        }
      ]
    },
    {
      "cell_type": "markdown",
      "source": [
        "2d array 이고 row 2개 column이 3개라서 (2,3)이 나오는 거다."
      ],
      "metadata": {
        "id": "gfsp7teHc1XO"
      }
    },
    {
      "cell_type": "code",
      "source": [
        "x= np.array([[[1,2,3], [4,5,6]], [[7,8,9], [10,11,12]]])\n",
        "print(x)\n",
        "print(type(x))\n",
        "print(x.shape)"
      ],
      "metadata": {
        "colab": {
          "base_uri": "https://localhost:8080/"
        },
        "id": "y2kB14ccdEKQ",
        "outputId": "238c0d1a-ae4f-42a6-d1c9-be8c5627b28a"
      },
      "execution_count": 76,
      "outputs": [
        {
          "output_type": "stream",
          "name": "stdout",
          "text": [
            "[[[ 1  2  3]\n",
            "  [ 4  5  6]]\n",
            "\n",
            " [[ 7  8  9]\n",
            "  [10 11 12]]]\n",
            "<class 'numpy.ndarray'>\n",
            "(2, 2, 3)\n"
          ]
        }
      ]
    },
    {
      "cell_type": "markdown",
      "source": [
        "몇차원인지 확인 할 때는 처음과 끝의 대괄호의 개수를 보면 알 수 있다. (2, 2, 3)의 경우 처음2는 큰 덩어리 두개를 말하고 두번째 2는 각덩어리의 작은덩어리 두개를 말하고 3은 괄호안의 숫자 세개를 의미한다."
      ],
      "metadata": {
        "id": "oD0JVWpEdiLV"
      }
    },
    {
      "cell_type": "code",
      "source": [
        "x = np.ones([2, 2, 3])"
      ],
      "metadata": {
        "id": "Wfw37akXeGJZ"
      },
      "execution_count": null,
      "outputs": []
    },
    {
      "cell_type": "markdown",
      "source": [
        "ones는 2by2by3의 1로채워진 3d array를 만들어준다. zeros는 0으로 채우는 거다."
      ],
      "metadata": {
        "id": "wS-V-sGweP6s"
      }
    },
    {
      "cell_type": "code",
      "source": [
        "np.random.normal(0, 1, [2,3,4])"
      ],
      "metadata": {
        "colab": {
          "base_uri": "https://localhost:8080/"
        },
        "id": "Oxf_94yEeueR",
        "outputId": "5c164939-1c3c-46f9-aecd-5d491bff5b6d"
      },
      "execution_count": 77,
      "outputs": [
        {
          "output_type": "execute_result",
          "data": {
            "text/plain": [
              "array([[[-1.44149141, -1.09578496, -0.20355796, -1.0533825 ],\n",
              "        [ 0.36189438,  0.60194361,  0.29373677, -0.21593646],\n",
              "        [ 0.26730014, -1.21648921,  0.75114624,  2.25275542]],\n",
              "\n",
              "       [[-2.32615145, -0.29321919,  0.87652359, -1.02224662],\n",
              "        [-0.73324771,  0.17297429, -0.60750924, -0.45664867],\n",
              "        [ 0.71817193,  0.10768994,  1.90132536,  1.04990952]]])"
            ]
          },
          "metadata": {},
          "execution_count": 77
        }
      ]
    },
    {
      "cell_type": "markdown",
      "source": [
        "np.random.normal 0은 평균이고 1은 표준편차이고 [2,3,4]는 2by3by4의 nd array를 만들라는 것이다."
      ],
      "metadata": {
        "id": "dC7MURgxe6O6"
      }
    },
    {
      "cell_type": "code",
      "source": [
        "import matplotlib.pyplot as plt"
      ],
      "metadata": {
        "id": "LX52KzeRgYSh"
      },
      "execution_count": 78,
      "outputs": []
    },
    {
      "cell_type": "code",
      "source": [
        "x = np.random.normal(0, 1, 100)\n",
        "print(x)\n",
        "plt.hist(x, bins=10)\n"
      ],
      "metadata": {
        "colab": {
          "base_uri": "https://localhost:8080/",
          "height": 664
        },
        "id": "eL1AgeOpgJZO",
        "outputId": "680b0cbe-bfca-493d-f2c8-94ce8f0b6a3b"
      },
      "execution_count": 79,
      "outputs": [
        {
          "output_type": "stream",
          "name": "stdout",
          "text": [
            "[ 0.84647049  1.22698931 -0.76485553  0.62032842 -1.3271701   0.11026913\n",
            " -1.71362226  1.1181518  -1.30456097  1.01769659  0.18724161 -0.4130801\n",
            "  0.06882744  0.30074044  0.84512231  1.19748597 -1.00257166  0.87119339\n",
            " -2.32873713  0.31498565  0.0509894   1.20145646  1.00352493  0.07733744\n",
            " -0.4264044  -0.05265053 -0.94841616 -0.99074995 -0.26372175 -0.38932903\n",
            " -1.52492534 -0.78005823 -0.75460852  1.96769293 -0.63023085 -1.69135716\n",
            " -1.72861778 -1.16975516  0.59798178 -1.59608005  0.97428868  1.47776689\n",
            " -0.28308581  0.13679898 -0.00446469  0.04716117  1.34160577 -0.79662489\n",
            "  0.46982399  1.0599129  -0.20938365 -2.11527981  1.67445777 -0.54734399\n",
            "  1.08043916  1.03478065 -0.56006262 -0.34012594  0.15845905  0.03516294\n",
            "  0.39272785 -0.25541112 -0.00532313  0.64611704  0.50627006 -0.06749768\n",
            " -0.65042615  2.06892911 -0.51307032 -0.58026477 -0.86039259 -0.02456189\n",
            " -0.26654911 -1.11271403 -0.15411956  0.45869038 -0.50663147 -0.42365924\n",
            " -0.2586909  -0.36211749  2.05532667  0.74032533  0.77445783  0.3716312\n",
            " -0.31629106 -0.32803659  1.14244632  0.07860833 -0.15308935  0.41902081\n",
            " -0.04115065 -0.45840395 -1.05029718  0.62214436  0.53309259  1.97186078\n",
            "  0.49880065  0.22594758 -0.32355581 -0.4756707 ]\n"
          ]
        },
        {
          "output_type": "execute_result",
          "data": {
            "text/plain": [
              "(array([ 2.,  5.,  5., 11., 23., 18., 14., 12.,  5.,  5.]),\n",
              " array([-2.32873713, -1.88897051, -1.44920389, -1.00943726, -0.56967064,\n",
              "        -0.12990401,  0.30986261,  0.74962924,  1.18939586,  1.62916248,\n",
              "         2.06892911]),\n",
              " <a list of 10 Patch objects>)"
            ]
          },
          "metadata": {},
          "execution_count": 79
        },
        {
          "output_type": "display_data",
          "data": {
            "text/plain": [
              "<Figure size 432x288 with 1 Axes>"
            ],
            "image/png": "[encoded data removed]"
          },
          "metadata": {
            "needs_background": "light"
          }
        }
      ]
    },
    {
      "cell_type": "markdown",
      "source": [
        "이건 긴 한 줄의 1d array를 만들어주라는 것이다. bins는 통이다 통을 10개로 한다고 하는 것이다. "
      ],
      "metadata": {
        "id": "7hz-Tog2gkMy"
      }
    },
    {
      "cell_type": "code",
      "source": [
        "plt.figure()\n",
        "\n",
        "theta1 = np.linspace(0, 2*np.pi, 100)\n",
        "s1 = np.sin(theta1)\n",
        "theta2 = np.linspace(0, 2*np.pi, 100) + np.pi/2\n",
        "s2 = np.sin(theta2)\n",
        "\n",
        "plt.subplot(2, 1, 1)\n",
        "plt.plot(theta1, s1, '.' )\n",
        "plt.subplot(2, 1, 2)\n",
        "plt. plot(theta2, s2, '.')"
      ],
      "metadata": {
        "colab": {
          "base_uri": "https://localhost:8080/",
          "height": 283
        },
        "id": "qBs9vFSshjmD",
        "outputId": "9c3cb1f7-f662-4f36-9c13-11fd9dc295bc"
      },
      "execution_count": 80,
      "outputs": [
        {
          "output_type": "execute_result",
          "data": {
            "text/plain": [
              "[<matplotlib.lines.Line2D at 0x7f5372f2ce50>]"
            ]
          },
          "metadata": {},
          "execution_count": 80
        },
        {
          "output_type": "display_data",
          "data": {
            "text/plain": [
              "<Figure size 432x288 with 2 Axes>"
            ],
            "image/png": "[encoded data removed]"
          },
          "metadata": {
            "needs_background": "light"
          }
        }
      ]
    },
    {
      "cell_type": "markdown",
      "source": [
        "plt.figure는 틀을 잡아주는 함수이다.\n",
        "linspace는 0부터 2*np.pi까지 100개의 숫자를 만들어라 pi는 그냥 파이다.\n",
        "theta1은 360도고 theta2는 450도 이다. np.sin의 함수를 통과하여 100개의 점이 나오는 것이다. \n",
        "pit.subplot은 2행과 1줄로 만들라는 것이고 어디에 그릴 것인지 정하는 것이다. \n",
        "plt.plot은 x와 y값을 받아야 한다. '.'은 점으로 표시하라는 것이다."
      ],
      "metadata": {
        "id": "J150dvSNiqNd"
      }
    },
    {
      "cell_type": "code",
      "source": [
        "np.corrcoef(s1, s2)"
      ],
      "metadata": {
        "colab": {
          "base_uri": "https://localhost:8080/"
        },
        "id": "IQgi_IkOkuVs",
        "outputId": "ad7c1d44-86bd-407e-8200-17e9d85c727f"
      },
      "execution_count": 81,
      "outputs": [
        {
          "output_type": "execute_result",
          "data": {
            "text/plain": [
              "array([[1.00000000e+00, 2.41915449e-17],\n",
              "       [2.41915449e-17, 1.00000000e+00]])"
            ]
          },
          "metadata": {},
          "execution_count": 81
        }
      ]
    },
    {
      "cell_type": "markdown",
      "source": [
        "한학급에 10명이 있다.\n",
        "그리고 영어 수학의 점수를 점을 찍어서 확인 할 수 있다. 그 모양이 어떻게 생겼는지 확인해서 정비례하는지 반비례하는지 확인할 수 있다. correlation coericient를 구해 어느정도 비례하는지 알 수 있다. 그리고 r로 통해 표기한다. -1 =< r =<1 r의 절대값이 1에 가까워 질수록 좁게 분포되어 있고 0에 가까울수록 두리뭉실하다. 첫번째와 네번째 값은 무조건 1이라 상관이 없고 두번째와 세번째값은 같은 값이 나온다. 저 값은 거의 0이다. "
      ],
      "metadata": {
        "id": "hKzVi8HPkvu1"
      }
    }
  ]
}